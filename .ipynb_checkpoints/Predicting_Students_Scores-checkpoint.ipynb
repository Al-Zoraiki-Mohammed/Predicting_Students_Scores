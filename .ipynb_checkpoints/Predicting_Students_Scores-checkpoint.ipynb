{
 "cells": [
  {
   "cell_type": "markdown",
   "id": "54eab5f0",
   "metadata": {},
   "source": [
    "# Predicting_Students_Scores\n",
    "\n",
    "* This beginner-friendly project aims to employ supervised machine learning to predict students' scores based on study hours, recognizing the crucial connection between study time and academic performance.\n",
    "* The primary objective is to develop a simple linear regression model, involving only two variables:\n",
    "    * study hours (input data  $x$) and actual scores (the target $y$ ). \n",
    "* This Simple project is focused on practice and learning. To achieve this goal, we are utilizing a small dataset containing information about study hours and scores for specific students. Our approach involves a step-by-step process, with a particular emphasis on elaborating on the important details.\n"
   ]
  },
  {
   "cell_type": "markdown",
   "id": "2c649779",
   "metadata": {},
   "source": [
    "\n",
    "\n",
    "<img src=\"https://static.vecteezy.com/system/resources/previews/014/050/038/original/kids-drawing-illustration-of-a-student-study-hard-to-become-the-top-student-for-next-exam-in-a-cartoon-style-vector.jpg\" alt=\"Your Image\" width=\"500\"/>\n",
    "\n",
    "\n",
    "\n"
   ]
  },
  {
   "cell_type": "markdown",
   "id": "b8582a7f",
   "metadata": {},
   "source": [
    "### Tools and  Prerequisites: \n",
    "* NumPy, a popular library for scientific computing.\n",
    "* Matplotlib, a popular library for plotting data.\n",
    "* Pandas, a popular library for data manipulation and analysis in Python. "
   ]
  },
  {
   "cell_type": "code",
   "execution_count": 1,
   "id": "1e7ad919",
   "metadata": {},
   "outputs": [],
   "source": [
    "import pandas as pd\n",
    "import numpy as np\n",
    "import matplotlib.pyplot as plt"
   ]
  },
  {
   "cell_type": "code",
   "execution_count": 2,
   "id": "e2efff87",
   "metadata": {
    "scrolled": true
   },
   "outputs": [
    {
     "data": {
      "text/html": [
       "<div>\n",
       "<style scoped>\n",
       "    .dataframe tbody tr th:only-of-type {\n",
       "        vertical-align: middle;\n",
       "    }\n",
       "\n",
       "    .dataframe tbody tr th {\n",
       "        vertical-align: top;\n",
       "    }\n",
       "\n",
       "    .dataframe thead th {\n",
       "        text-align: right;\n",
       "    }\n",
       "</style>\n",
       "<table border=\"1\" class=\"dataframe\">\n",
       "  <thead>\n",
       "    <tr style=\"text-align: right;\">\n",
       "      <th></th>\n",
       "      <th>Hours</th>\n",
       "      <th>Scores</th>\n",
       "    </tr>\n",
       "  </thead>\n",
       "  <tbody>\n",
       "    <tr>\n",
       "      <th>0</th>\n",
       "      <td>2.5</td>\n",
       "      <td>21</td>\n",
       "    </tr>\n",
       "    <tr>\n",
       "      <th>1</th>\n",
       "      <td>5.1</td>\n",
       "      <td>47</td>\n",
       "    </tr>\n",
       "    <tr>\n",
       "      <th>2</th>\n",
       "      <td>3.2</td>\n",
       "      <td>27</td>\n",
       "    </tr>\n",
       "    <tr>\n",
       "      <th>3</th>\n",
       "      <td>8.5</td>\n",
       "      <td>75</td>\n",
       "    </tr>\n",
       "    <tr>\n",
       "      <th>4</th>\n",
       "      <td>3.5</td>\n",
       "      <td>30</td>\n",
       "    </tr>\n",
       "  </tbody>\n",
       "</table>\n",
       "</div>"
      ],
      "text/plain": [
       "   Hours  Scores\n",
       "0    2.5      21\n",
       "1    5.1      47\n",
       "2    3.2      27\n",
       "3    8.5      75\n",
       "4    3.5      30"
      ]
     },
     "execution_count": 2,
     "metadata": {},
     "output_type": "execute_result"
    }
   ],
   "source": [
    "# Read the dataset:\n",
    "df = pd.read_csv('dataset.txt')\n",
    "df.head()"
   ]
  },
  {
   "cell_type": "code",
   "execution_count": 3,
   "id": "699f3aa2",
   "metadata": {},
   "outputs": [
    {
     "data": {
      "text/plain": [
       "25"
      ]
     },
     "execution_count": 3,
     "metadata": {},
     "output_type": "execute_result"
    }
   ],
   "source": [
    "# Lets check the size of our dataframe.\n",
    "len(df)"
   ]
  },
  {
   "cell_type": "code",
   "execution_count": 4,
   "id": "8fb9a9a9",
   "metadata": {},
   "outputs": [
    {
     "data": {
      "text/plain": [
       "array([2.5, 5.1, 3.2, 8.5, 3.5, 1.5, 9.2, 5.5, 8.3, 2.7, 7.7, 5.9, 4.5,\n",
       "       3.3, 1.1, 8.9, 2.5, 1.9, 6.1, 7.4, 2.7, 4.8, 3.8, 6.9, 7.8])"
      ]
     },
     "execution_count": 4,
     "metadata": {},
     "output_type": "execute_result"
    }
   ],
   "source": [
    "# perpare input data as numpy array.\n",
    "x= np.array(df['Hours'])\n",
    "x"
   ]
  },
  {
   "cell_type": "code",
   "execution_count": 5,
   "id": "58657300",
   "metadata": {},
   "outputs": [
    {
     "data": {
      "text/plain": [
       "array([21, 47, 27, 75, 30, 20, 88, 60, 81, 25, 85, 62, 41, 42, 17, 95, 30,\n",
       "       24, 67, 69, 30, 54, 35, 76, 86], dtype=int64)"
      ]
     },
     "execution_count": 5,
     "metadata": {},
     "output_type": "execute_result"
    }
   ],
   "source": [
    "# perpare the output data or target y.\n",
    "y =np.array(df['Scores'])\n",
    "y"
   ]
  },
  {
   "cell_type": "code",
   "execution_count": 6,
   "id": "8ca27381",
   "metadata": {},
   "outputs": [
    {
     "data": {
      "text/plain": [
       "((25,), (25,))"
      ]
     },
     "execution_count": 6,
     "metadata": {},
     "output_type": "execute_result"
    }
   ],
   "source": [
    "# check the shape of the input and target data.\n",
    "x.shape , y.shape"
   ]
  },
  {
   "cell_type": "markdown",
   "id": "e87628b2",
   "metadata": {},
   "source": [
    "## Ploting the data\n"
   ]
  },
  {
   "cell_type": "code",
   "execution_count": 7,
   "id": "a827ffe5",
   "metadata": {},
   "outputs": [
    {
     "data": {
      "image/png": "[encoded data removed]",
      "text/plain": [
       "<Figure size 432x288 with 1 Axes>"
      ]
     },
     "metadata": {
      "needs_background": "light"
     },
     "output_type": "display_data"
    }
   ],
   "source": [
    "# Plot the data points\n",
    "plt.scatter(x, y, c='r')\n",
    "# Set the title\n",
    "plt.title(\"Study hours vs Scores\")\n",
    "# Set the y-axis label\n",
    "plt.ylabel('Scores')\n",
    "# Set the x-axis label\n",
    "plt.xlabel('No. of Study hours')\n",
    "plt.show()"
   ]
  },
  {
   "cell_type": "markdown",
   "id": "2db65371",
   "metadata": {},
   "source": [
    "## Model function\n",
    "\n",
    "* As we can see in the graph above, it is evident that the relationship between the input variable `x` and the corresponding target variable `y` follows a linear regression pattern.\n",
    "* The model function for linear regression (which is a function that maps from `x` to `y`) is represented as: \n",
    "\n",
    "$$ f_{w,b}(x^{(i)}) = wx^{(i)} + b \\tag{1}$$\n",
    "* The formula above is how you can represent straight lines - different values of  w  and  b  give you different straight lines on the plot."
   ]
  },
  {
   "cell_type": "markdown",
   "id": "599b563f",
   "metadata": {},
   "source": [
    "* For simplisity we will rewrite the equation (1) above as the following: $ \\hat{y} = wx^{(i)} + b \\tag{2}$.\n",
    "* The idea from this model is to find the appropriate values for 'w' and 'b', then when we have these values/ parameters 'w', 'b', and  number of study hours 'x' for new student, we can get/predict the corresponding output (the score 'y') for that student.\n",
    "* Remark: We should distiguish between the actual targed y and predicted target y_hat : $ y, \\hat{y} $\n"
   ]
  },
  {
   "cell_type": "markdown",
   "id": "19d1f732",
   "metadata": {},
   "source": [
    "* Now: let's initiate the calculation using arbitrary values for 'w' and 'b'( let's say w= 5  and  b= 2) and determine the value of  $\\hat{y}$ for our data points and compare it with actual target y."
   ]
  },
  {
   "cell_type": "code",
   "execution_count": 8,
   "id": "b28dc639",
   "metadata": {},
   "outputs": [],
   "source": [
    "# First we will assign the values to w,b parameters\n",
    "w = 5 \n",
    "b = 2"
   ]
  },
  {
   "cell_type": "code",
   "execution_count": 9,
   "id": "0adb711e",
   "metadata": {},
   "outputs": [
    {
     "data": {
      "text/html": [
       "<div>\n",
       "<style scoped>\n",
       "    .dataframe tbody tr th:only-of-type {\n",
       "        vertical-align: middle;\n",
       "    }\n",
       "\n",
       "    .dataframe tbody tr th {\n",
       "        vertical-align: top;\n",
       "    }\n",
       "\n",
       "    .dataframe thead th {\n",
       "        text-align: right;\n",
       "    }\n",
       "</style>\n",
       "<table border=\"1\" class=\"dataframe\">\n",
       "  <thead>\n",
       "    <tr style=\"text-align: right;\">\n",
       "      <th></th>\n",
       "      <th>Hours</th>\n",
       "      <th>Scores</th>\n",
       "    </tr>\n",
       "  </thead>\n",
       "  <tbody>\n",
       "    <tr>\n",
       "      <th>0</th>\n",
       "      <td>2.5</td>\n",
       "      <td>21</td>\n",
       "    </tr>\n",
       "    <tr>\n",
       "      <th>1</th>\n",
       "      <td>5.1</td>\n",
       "      <td>47</td>\n",
       "    </tr>\n",
       "    <tr>\n",
       "      <th>2</th>\n",
       "      <td>3.2</td>\n",
       "      <td>27</td>\n",
       "    </tr>\n",
       "    <tr>\n",
       "      <th>3</th>\n",
       "      <td>8.5</td>\n",
       "      <td>75</td>\n",
       "    </tr>\n",
       "    <tr>\n",
       "      <th>4</th>\n",
       "      <td>3.5</td>\n",
       "      <td>30</td>\n",
       "    </tr>\n",
       "  </tbody>\n",
       "</table>\n",
       "</div>"
      ],
      "text/plain": [
       "   Hours  Scores\n",
       "0    2.5      21\n",
       "1    5.1      47\n",
       "2    3.2      27\n",
       "3    8.5      75\n",
       "4    3.5      30"
      ]
     },
     "execution_count": 9,
     "metadata": {},
     "output_type": "execute_result"
    }
   ],
   "source": [
    "# lets also print some examples from the dataset to see  x (hours) and actual y (Scores) values.\n",
    "df.head()"
   ]
  },
  {
   "cell_type": "markdown",
   "id": "3bd66a54",
   "metadata": {},
   "source": [
    "*  We can see that when the student studied for 2.5 hours, his/her actual score y was 21, and when studies 5.1 , score was 47 and so on.\n"
   ]
  },
  {
   "cell_type": "markdown",
   "id": "166540c6",
   "metadata": {},
   "source": [
    "* Now lets use our model (Equation (2) above)  to predict some scores ($\\hat{y}$) of the first 5 examples shown above."
   ]
  },
  {
   "cell_type": "code",
   "execution_count": 10,
   "id": "78b1f2ff",
   "metadata": {},
   "outputs": [
    {
     "data": {
      "text/plain": [
       "14.5"
      ]
     },
     "execution_count": 10,
     "metadata": {},
     "output_type": "execute_result"
    }
   ],
   "source": [
    "# Now we will predict y_hat for the first example when x=2.5 and w=5 ,b=2.\n",
    "y_hat = w * x[0] + b\n",
    "y_hat"
   ]
  },
  {
   "cell_type": "code",
   "execution_count": 11,
   "id": "9778e471",
   "metadata": {},
   "outputs": [
    {
     "data": {
      "text/plain": [
       "27.5"
      ]
     },
     "execution_count": 11,
     "metadata": {},
     "output_type": "execute_result"
    }
   ],
   "source": [
    "# and for the second example, when x= 5.1\n",
    "y_hat = w * x[1] + b\n",
    "y_hat"
   ]
  },
  {
   "cell_type": "markdown",
   "id": "05a5d061",
   "metadata": {},
   "source": [
    "* we can see that our model predict 14.5 score( $\\hat{y} = 14.5$) for the first example when student studied for 2.5 hours( $ x=2.5 $), but the real score was 21 ($ y = 21 $ ), and predicts 27.5 scores when studied for 5.1 hours while the actual score ($ y= 47 $). which means that our model still bad and we shoud change the values of  parameters 'w' and 'b' to make the model more accurate.\n",
    "* Fore sure, keep changing 'w' and 'b' manually is not practical solution, but for the seek of learning and to have intuition,  we will continue that for now and later we will use an optimization  algorithm which select the best values for our model parameters 'w' and 'b'."
   ]
  },
  {
   "cell_type": "code",
   "execution_count": 12,
   "id": "597da3c8",
   "metadata": {},
   "outputs": [
    {
     "data": {
      "text/plain": [
       "array([14.5, 27.5, 18. , 44.5, 19.5,  9.5, 48. , 29.5, 43.5, 15.5, 40.5,\n",
       "       31.5, 24.5, 18.5,  7.5, 46.5, 14.5, 11.5, 32.5, 39. , 15.5, 26. ,\n",
       "       21. , 36.5, 41. ])"
      ]
     },
     "execution_count": 12,
     "metadata": {},
     "output_type": "execute_result"
    }
   ],
   "source": [
    "# Now Lets use our model to predict all socres at once\n",
    "y_hat = np.zeros(len(x))\n",
    "for i in range(len(x)):\n",
    "    y_hat[i] = w * x[i] + b\n",
    "y_hat"
   ]
  },
  {
   "cell_type": "code",
   "execution_count": 13,
   "id": "de5d2b68",
   "metadata": {},
   "outputs": [
    {
     "data": {
      "text/plain": [
       "array([14.5, 27.5, 18. , 44.5, 19.5,  9.5, 48. , 29.5, 43.5, 15.5, 40.5,\n",
       "       31.5, 24.5, 18.5,  7.5, 46.5, 14.5, 11.5, 32.5, 39. , 15.5, 26. ,\n",
       "       21. , 36.5, 41. ])"
      ]
     },
     "execution_count": 13,
     "metadata": {},
     "output_type": "execute_result"
    }
   ],
   "source": [
    "# We can utilize numpy casting instead using for loop as the following:\n",
    "y_hat = w * x + b\n",
    "y_hat"
   ]
  },
  {
   "cell_type": "markdown",
   "id": "87ad3c61",
   "metadata": {},
   "source": [
    "* Lets plot the real datapoints and the prediction data points and see how our model fits the data?\n"
   ]
  },
  {
   "cell_type": "code",
   "execution_count": 49,
   "id": "004c3193",
   "metadata": {},
   "outputs": [
    {
     "data": {
      "image/png": "[encoded data removed]",
      "text/plain": [
       "<Figure size 432x288 with 1 Axes>"
      ]
     },
     "metadata": {
      "needs_background": "light"
     },
     "output_type": "display_data"
    }
   ],
   "source": [
    "# Plot the real data points\n",
    "plt.scatter(x, y, c='r',label='Actual Values')\n",
    "\n",
    "# Plot our model prediction\n",
    "plt.plot(x, y_hat, c='b',label='Our Prediction')\n",
    "\n",
    "# Set the title\n",
    "plt.title(\"Study hours vs Scores\")\n",
    "# Set the y-axis label\n",
    "plt.ylabel('Scores')\n",
    "# Set the x-axis label\n",
    "plt.xlabel('No. of Study hours')\n",
    "plt.legend()\n",
    "plt.show()"
   ]
  },
  {
   "cell_type": "markdown",
   "id": "f6e33a71",
   "metadata": {},
   "source": [
    "* As we can see, setting  w= 5  and  b = 2  does not result in a line that fits our data (under fit)."
   ]
  },
  {
   "cell_type": "markdown",
   "id": "d53cf405",
   "metadata": {},
   "source": [
    "* Now we will try experimenting with different values of  w  and  b ( manually) trying to make the line(predicted points $ \\hat{y}$) fits actual data ($ y $).\n",
    "* In order to try that many times easily, we shoul write two functions: \n",
    "    * first function:  for caculating the predictions.\n",
    "    * Second function for ploting the data."
   ]
  },
  {
   "cell_type": "code",
   "execution_count": 54,
   "id": "e9c7ecea",
   "metadata": {},
   "outputs": [],
   "source": [
    "# A function for caculating the predictions.\n",
    "def model_predictions(x, w, b):\n",
    "    \"\"\"\n",
    "    Computes the prediction of a linear model\n",
    "    Args:\n",
    "      x (ndarray (m,)): Data, m examples \n",
    "      w,b (scalar)    : model parameters  \n",
    "    Returns\n",
    "      y (ndarray (m,)): target values\n",
    "    \"\"\"\n",
    "    m = len(df)\n",
    "    y_hat = np.zeros(m)\n",
    "    for i in range(m):\n",
    "        y_hat[i] = w * x[i] + b\n",
    "        \n",
    "    return y_hat"
   ]
  },
  {
   "cell_type": "code",
   "execution_count": 57,
   "id": "63db8d5d",
   "metadata": {},
   "outputs": [],
   "source": [
    "def plot_data():\n",
    "    # Plot the real data points\n",
    "    plt.scatter(x, y, c='r',label='Actual Values')\n",
    "\n",
    "    # Plot our model prediction\n",
    "    plt.plot(x, y_hat, c='b',label='Our Prediction')\n",
    "\n",
    "    # Set the title\n",
    "    plt.title(\"Study hours vs Scores\")\n",
    "    # Set the y-axis label\n",
    "    plt.ylabel('Scores')\n",
    "    # Set the x-axis label\n",
    "    plt.xlabel('No. of Study hours')\n",
    "    plt.legend()\n",
    "    plt.show()"
   ]
  },
  {
   "cell_type": "code",
   "execution_count": 58,
   "id": "cb781a84",
   "metadata": {},
   "outputs": [
    {
     "data": {
      "image/png": "[encoded data removed]",
      "text/plain": [
       "<Figure size 432x288 with 1 Axes>"
      ]
     },
     "metadata": {
      "needs_background": "light"
     },
     "output_type": "display_data"
    }
   ],
   "source": [
    "# Lets now try different values for 'w' and 'b' , till we make the line/model fits the data.\n",
    "y_hat= model_predictions(x, w=12, b=8)\n",
    "plot_data()"
   ]
  },
  {
   "cell_type": "markdown",
   "id": "a128e19a",
   "metadata": {},
   "source": [
    "* After keep trying out different values for w and b we could fit the line as the following: "
   ]
  },
  {
   "cell_type": "code",
   "execution_count": 59,
   "id": "507da4f2",
   "metadata": {},
   "outputs": [
    {
     "data": {
      "image/png": "[encoded data removed]",
      "text/plain": [
       "<Figure size 432x288 with 1 Axes>"
      ]
     },
     "metadata": {
      "needs_background": "light"
     },
     "output_type": "display_data"
    }
   ],
   "source": [
    "y_hat= model_predictions(x, w=10, b=0)\n",
    "plot_data()"
   ]
  },
  {
   "cell_type": "markdown",
   "id": "81f2de25",
   "metadata": {},
   "source": [
    "* We can see that the above model with w = 10 and b=0 is making our model to fit our data beter than other models we saw before.\n",
    "* There may be different values for w,b can fit the model. ( you can try them out ;) )."
   ]
  },
  {
   "cell_type": "markdown",
   "id": "11efd3d0",
   "metadata": {},
   "source": [
    "#### Remarks:\n",
    "*  The linear regression model assumes a linear relationship between the independent variable($x$) and the dependent variable ($y$), and it seeks to find the best-fitting line that represents this relationship.\n",
    "* The straight line equation: $y = wx + b$ is the mathematical representation of the linear regression model,where:\n",
    "    *  y is the dependent variable (the variable we are trying to predict).\n",
    "    * x is the independent variable (the variable we use to make predictions).\n",
    "    * w and b are the parameters that need to be estimated based on the given data. \n",
    "        * w is the slope (the coefficient that represents the rate of change of $y$ with respect to $x$ ).\n",
    "        * b is  y-intercept (the value of $y$ when $x$ is zero), some times is called the bias.\n",
    "\n"
   ]
  },
  {
   "cell_type": "code",
   "execution_count": 60,
   "id": "bdc08b6b",
   "metadata": {},
   "outputs": [
    {
     "data": {
      "image/png": "[encoded data removed]",
      "text/plain": [
       "<Figure size 432x288 with 1 Axes>"
      ]
     },
     "metadata": {
      "needs_background": "light"
     },
     "output_type": "display_data"
    }
   ],
   "source": [
    "# To have some intuiton we can select  different values for w (i.e: w=-5(negative slope) and b = 0 \n",
    "y_hat= model_predictions(x, w = -5, b=0)\n",
    "plot_data()"
   ]
  },
  {
   "cell_type": "code",
   "execution_count": 61,
   "id": "30dfb638",
   "metadata": {},
   "outputs": [
    {
     "data": {
      "image/png": "[encoded data removed]",
      "text/plain": [
       "<Figure size 432x288 with 1 Axes>"
      ]
     },
     "metadata": {
      "needs_background": "light"
     },
     "output_type": "display_data"
    }
   ],
   "source": [
    "# What if we set w to 0 (w=0) and change b to different values ( try different bias b=0, 40, -10)!\n",
    "y_hat= model_predictions(x, w = 0, b=40)\n",
    "plot_data()"
   ]
  },
  {
   "cell_type": "code",
   "execution_count": 62,
   "id": "e571acab",
   "metadata": {},
   "outputs": [
    {
     "data": {
      "image/png": "[encoded data removed]",
      "text/plain": [
       "<Figure size 432x288 with 1 Axes>"
      ]
     },
     "metadata": {
      "needs_background": "light"
     },
     "output_type": "display_data"
    }
   ],
   "source": [
    "# Lets find  optimized values parameters for w,b(i.e: w=10 and b=1)\n",
    "y_hat= model_predictions(x, w=10, b=1)\n",
    "plot_data()"
   ]
  },
  {
   "cell_type": "markdown",
   "id": "8df62c1f",
   "metadata": {},
   "source": [
    "####  Using the model :)"
   ]
  },
  {
   "cell_type": "markdown",
   "id": "dd3d94be",
   "metadata": {},
   "source": [
    "* Now our model is a good fit and ready to use it to predict scores for new students who studied for $x$ number of hours ( Even those students are not included in the dataset)."
   ]
  },
  {
   "cell_type": "code",
   "execution_count": 63,
   "id": "4c009879",
   "metadata": {},
   "outputs": [
    {
     "name": "stdout",
     "output_type": "stream",
     "text": [
      "The predicted score for a student who studied 4 hours is 41 :)\n"
     ]
    }
   ],
   "source": [
    "# If a student studied for 4 hours? what score he will get?!! Let's predict that using our  model :)\n",
    "w = 10                         # our optimized value for w param.\n",
    "b= 1                           # our optimized value for b param.\n",
    "study_hours = 4                # Number of study hours that the student studied ( x input).\n",
    "score =  w * study_hours + b   # Predicted score\n",
    "print(f'The predicted score for a student who studied 4 hours is {score} :)')"
   ]
  },
  {
   "cell_type": "code",
   "execution_count": 64,
   "id": "62376f43",
   "metadata": {},
   "outputs": [],
   "source": [
    "# Lets write the code above in a function and predict for as many students as we want :)\n",
    "def predict_score(study_hours, w = 10, b = 1):\n",
    "    score =  w * study_hours + b\n",
    "    print(f'The predicted score for a student who studied for {study_hours} hours is {score} :)')\n",
    "    "
   ]
  },
  {
   "cell_type": "code",
   "execution_count": 65,
   "id": "d5eb528c",
   "metadata": {},
   "outputs": [
    {
     "name": "stdout",
     "output_type": "stream",
     "text": [
      "The predicted score for a student who studied for 4 hours is 41 :)\n"
     ]
    }
   ],
   "source": [
    "# Lets predict scores as many as we want :)\n",
    "predict_score(4)"
   ]
  },
  {
   "cell_type": "code",
   "execution_count": 66,
   "id": "08bde4ed",
   "metadata": {},
   "outputs": [
    {
     "name": "stdout",
     "output_type": "stream",
     "text": [
      "The predicted score for a student who studied for 9 hours is 91 :)\n"
     ]
    }
   ],
   "source": [
    "predict_score(9)"
   ]
  },
  {
   "cell_type": "code",
   "execution_count": 67,
   "id": "dc2c3385",
   "metadata": {},
   "outputs": [
    {
     "name": "stdout",
     "output_type": "stream",
     "text": [
      "The predicted score for a student who studied for 1 hours is 11 :)\n"
     ]
    }
   ],
   "source": [
    "predict_score(1)"
   ]
  },
  {
   "cell_type": "code",
   "execution_count": 68,
   "id": "fd48448c",
   "metadata": {},
   "outputs": [
    {
     "name": "stdout",
     "output_type": "stream",
     "text": [
      "The predicted score for a student who studied for 10 hours is 101 :)\n"
     ]
    }
   ],
   "source": [
    "# What if student studied 10 hours ?\n",
    "predict_score(10)"
   ]
  },
  {
   "cell_type": "markdown",
   "id": "d616c29e",
   "metadata": {},
   "source": [
    "* Here our model is keeping predicting linearly, but when the maximum score is 100 and minimum is zero, we can modify our function to return max or min score when the predicted value is over 100 or less than zero respectively."
   ]
  },
  {
   "cell_type": "code",
   "execution_count": 69,
   "id": "da517d14",
   "metadata": {},
   "outputs": [],
   "source": [
    "def predict_score(study_hours, w = 10, b = 1):\n",
    "    score =  w * study_hours + b\n",
    "    if score <=0:\n",
    "        score = 0\n",
    "    elif score >= 100:\n",
    "        score = 100\n",
    "    print(f'The predicted score for a student who studied for {study_hours} hours is {score} :)')\n",
    "    "
   ]
  },
  {
   "cell_type": "code",
   "execution_count": 70,
   "id": "6cfe2128",
   "metadata": {},
   "outputs": [
    {
     "name": "stdout",
     "output_type": "stream",
     "text": [
      "The predicted score for a student who studied for 10 hours is 100 :)\n"
     ]
    }
   ],
   "source": [
    "predict_score(10)"
   ]
  },
  {
   "cell_type": "code",
   "execution_count": 71,
   "id": "5bc97504",
   "metadata": {},
   "outputs": [
    {
     "name": "stdout",
     "output_type": "stream",
     "text": [
      "The predicted score for a student who studied for 0 hours is 1 :)\n"
     ]
    }
   ],
   "source": [
    "predict_score(0)"
   ]
  },
  {
   "cell_type": "code",
   "execution_count": 72,
   "id": "3853260d",
   "metadata": {},
   "outputs": [
    {
     "name": "stdout",
     "output_type": "stream",
     "text": [
      "The predicted score for a student who studied for -4 hours is 0 :)\n"
     ]
    }
   ],
   "source": [
    "# We know that study of hours can not be minus, but in case the user input negative value!\n",
    "predict_score(-4)"
   ]
  },
  {
   "cell_type": "markdown",
   "id": "4bae3eef",
   "metadata": {},
   "source": [
    "### Evaluation metrics:  how our model good is? "
   ]
  },
  {
   "cell_type": "markdown",
   "id": "7dbc2967",
   "metadata": {},
   "source": [
    "* To know how our model is good we need to measure the error between actual values $y$ and predicted values $\\hat{y}$ ( regression line). In our example here we can measure the difference between predicted scores and actual scores for students whose scores are already known.\n",
    "* Geometrically is a shown below: ![image error](regression_loss_error.png)\n",
    " * Numerically, there are some metrics used to calculate the error for regression problems, one of the most used is the Mean Absolute Error (MAE):\n",
    "     * MAE measures the average absolute difference between predicted and actual values. It is less sensitive to outliers compared to MSE $$\\text{MAE} = \\frac{1}{n} \\sum_{i=1}^{n} |y_i - \\hat{y}_i| $$\n"
   ]
  },
  {
   "cell_type": "code",
   "execution_count": 73,
   "id": "bc7a2a12",
   "metadata": {},
   "outputs": [],
   "source": [
    "# Lets build a function to calcualte MAE error for our model above.\n",
    "def MAE(y, y_hat):\n",
    "    n = len(y)\n",
    "    mae = np.abs(y - y_hat)\n",
    "    mae  = sum(mae)/ n\n",
    "    return mae\n",
    "    "
   ]
  },
  {
   "cell_type": "code",
   "execution_count": 74,
   "id": "d767110f",
   "metadata": {},
   "outputs": [],
   "source": [
    "# Shorter version of our MAE fuction can be:\n",
    "def MAE(y, y_hat):\n",
    "    return np.mean(np.abs(y - y_hat))\n"
   ]
  },
  {
   "cell_type": "code",
   "execution_count": 75,
   "id": "0363893b",
   "metadata": {},
   "outputs": [
    {
     "data": {
      "text/plain": [
       "array([25., 51., 32., 85., 35., 15., 92., 55., 83., 27., 77., 59., 45.,\n",
       "       33., 11., 89., 25., 19., 61., 74., 27., 48., 38., 69., 78.])"
      ]
     },
     "execution_count": 75,
     "metadata": {},
     "output_type": "execute_result"
    }
   ],
   "source": [
    "# Lets predict scores and recieve the predictions to y_hat\n",
    "y_hat= model_predictions(x, w=10, b=0)\n",
    "y_hat"
   ]
  },
  {
   "cell_type": "code",
   "execution_count": 76,
   "id": "2246bf84",
   "metadata": {},
   "outputs": [
    {
     "data": {
      "text/plain": [
       "array([21, 47, 27, 75, 30, 20, 88, 60, 81, 25, 85, 62, 41, 42, 17, 95, 30,\n",
       "       24, 67, 69, 30, 54, 35, 76, 86], dtype=int64)"
      ]
     },
     "execution_count": 76,
     "metadata": {},
     "output_type": "execute_result"
    }
   ],
   "source": [
    "# We already have  the actual values y:\n",
    "y"
   ]
  },
  {
   "cell_type": "code",
   "execution_count": 77,
   "id": "66255175",
   "metadata": {},
   "outputs": [
    {
     "data": {
      "text/plain": [
       "5.2"
      ]
     },
     "execution_count": 77,
     "metadata": {},
     "output_type": "execute_result"
    }
   ],
   "source": [
    "# Lets compare predictons y_hat with actual values y, using our MAE meteric function\n",
    "MAE(y, y_hat)"
   ]
  },
  {
   "cell_type": "markdown",
   "id": "450da7e6",
   "metadata": {},
   "source": [
    "* As we can see above, our model has an average MAE error of 5.2. This seems acceptable for predicting a student's score on a scale of 1 to 100. :)"
   ]
  },
  {
   "cell_type": "markdown",
   "id": "db52a574",
   "metadata": {},
   "source": [
    "## How to Select w,b automatically? \n"
   ]
  },
  {
   "cell_type": "markdown",
   "id": "db19a177",
   "metadata": {},
   "source": [
    "* We mentioned earlier that trying  values for w and b parameters manually is not practical solution. The practical way is to have an algorithm to help the computer  to select the best values for w and b that fits the training data very well. To acheive that we should solve the following:\n",
    "    * Start with a random guess for w and b parameters.( initial values)\n",
    "    * find a way to measure numerically how well the line/model fits the data points.( find a loss/ cost function  to mesure the error).\n",
    "    * find a way to modify w and b values automatically to optimize and minimize the loss/erro till the line fits the data. ( find an Optimization algorithm to minimize the error)."
   ]
  },
  {
   "cell_type": "markdown",
   "id": "5f2774f8",
   "metadata": {},
   "source": [
    "### [Loss/ Cost function](https://www.youtube.com/watch?v=CFN5zHzEuGY&list=PLkDaE6sCZn6FNC6YRfRQc_FbeQrF8BwGI&index=11):\n",
    "* Several loss functions are commonly used in regression problems in machine learning. Those functios work as a measure to calculate numerically the error between the actual target values $y$  and the predicted values $\\hat{y}$. Some of the most famous loss functions for regression problems in machine learning are: \n",
    "    1. Mean Absolute Error (MAE) / L1 Loss: \n",
    "        MAE measures the average absolute difference between predicted and actual values. It is less sensitive to outliers compared to MSE.\n",
    "        $$\\text{MAE} = \\frac{1}{n} \\sum_{i=1}^{n} |y_i - \\hat{y}_i|\\tag{3}$$ \n",
    "        \n",
    "        Where $n$ is the number of examples(rows).( Here in our example $n$ is the number of students $n=25$ )\n",
    "\n",
    "    2. Mean Squared Error (MSE) / L2 Loss: \n",
    "        This is perhaps the most widely used loss function for regression. It measures the average squared difference between predicted and actual values.\n",
    "         $$\\text{MSE} = \\frac{1}{n} \\sum_{i=1}^{n} (y_i - \\hat{y}_i)^2\\tag{4}$$\n",
    "    3. Root Mean Squared Error (RMSE):\n",
    "          RMSE (Root Mean Squared Error) is another commonly used loss function for regression problems. While it is often used as an evaluation metric, it can also be employed as a loss function during the training of a machine learning model. The RMSE is defined as:  $$\\text{RMSE} = \\sqrt{\\frac{1}{n} \\sum_{i=1}^{n} (y_i - \\hat{y}_i)^2}\\tag{5}$$\n",
    " \n",
    "    "
   ]
  },
  {
   "cell_type": "markdown",
   "id": "d84aa405",
   "metadata": {},
   "source": [
    "### Optimization algorithms:\n",
    "* Several optimization methods are commonly used for training regression models in machine learning. These optimization methods aim to adjust the model parameters(i.e. w,b) to minimize a chosen loss function. Here are some commonly used optimization methods:\n",
    "1. [Ordinary Least Squares (OLS)](https://en.wikipedia.org/wiki/Ordinary_least_squares): \n",
    "    It is a technique for estimating the parameters (coefficients) of a linear regression model by minimizing the sum of the squared differences between the observed and predicted values. (OLS is widely used when the dataset is small and some assumptions of linear regression are met).\n",
    "2. [Gradient Descent](https://www.youtube.com/watch?v=WtlvKq_zxPI&list=PLkDaE6sCZn6FNC6YRfRQc_FbeQrF8BwGI&index=15): Gradient Descent is an optimization algorithm commonly used in machine learning for minimizing the cost or loss function during the training of a model. The goal of the algorithm is to iteratively adjust the parameters of a model in the direction that reduces the cost function."
   ]
  },
  {
   "cell_type": "markdown",
   "id": "b2d2bff0",
   "metadata": {},
   "source": [
    "#### Remark:\n",
    "* In real-world scenarios, we often don't need to write every piece of code from scratch, as we're currently doing. Instead, we can leverage machine learning packages like Scikit-learn (SKlearn) (we will use that later in this notebook). These packages offer a streamlined way to develop models, allowing us to effortlessly implement metrics, cost functions, and optimization algorithms in just a few lines of code. However, it is highly recommended to begin with simple examples built from the ground up. This approach provides a solid understanding of the fundamental processes occurring under the hood, laying a strong foundation for more advanced utilization of ML packages."
   ]
  },
  {
   "cell_type": "code",
   "execution_count": null,
   "id": "4a01dfa2",
   "metadata": {},
   "outputs": [],
   "source": []
  },
  {
   "cell_type": "code",
   "execution_count": null,
   "id": "3cbeec62",
   "metadata": {},
   "outputs": [],
   "source": []
  }
 ],
 "metadata": {
  "kernelspec": {
   "display_name": "Python 3 (ipykernel)",
   "language": "python",
   "name": "python3"
  },
  "language_info": {
   "codemirror_mode": {
    "name": "ipython",
    "version": 3
   },
   "file_extension": ".py",
   "mimetype": "text/x-python",
   "name": "python",
   "nbconvert_exporter": "python",
   "pygments_lexer": "ipython3",
   "version": "3.9.7"
  }
 },
 "nbformat": 4,
 "nbformat_minor": 5
}
