{
 "cells": [
  {
   "cell_type": "markdown",
   "id": "54eab5f0",
   "metadata": {},
   "source": [
    "## Predicting_Students_Scores\n",
    "* This beginner-friendly project aims to employ supervised machine learning to predict students' scores based on study hours, recognizing the crucial connection between study time and academic performance. The primary objective is to develop a simple linear regression model, involving only two variables: study hours (input data) and ground truth scores (the target). The project utilizes a small dataset that includes information on study hours and scores. The ultimate goal is to create a model that not only predict the score for new students based on how many hours they study, but also offers meaningful insights into the impact of study hours on academic success."
   ]
  },
  {
   "cell_type": "markdown",
   "id": "b8582a7f",
   "metadata": {},
   "source": [
    "### Tools and  Prerequisites: \n",
    "* NumPy, a popular library for scientific computing.\n",
    "* Matplotlib, a popular library for plotting data.\n",
    "* Pandas, a popular library for data manipulation and analysis in Python. "
   ]
  },
  {
   "cell_type": "code",
   "execution_count": 42,
   "id": "1e7ad919",
   "metadata": {},
   "outputs": [],
   "source": [
    "import pandas as pd\n",
    "import numpy as np\n",
    "import matplotlib.pyplot as plt"
   ]
  },
  {
   "cell_type": "code",
   "execution_count": 43,
   "id": "e2efff87",
   "metadata": {
    "scrolled": true
   },
   "outputs": [
    {
     "data": {
      "text/html": [
       "<div>\n",
       "<style scoped>\n",
       "    .dataframe tbody tr th:only-of-type {\n",
       "        vertical-align: middle;\n",
       "    }\n",
       "\n",
       "    .dataframe tbody tr th {\n",
       "        vertical-align: top;\n",
       "    }\n",
       "\n",
       "    .dataframe thead th {\n",
       "        text-align: right;\n",
       "    }\n",
       "</style>\n",
       "<table border=\"1\" class=\"dataframe\">\n",
       "  <thead>\n",
       "    <tr style=\"text-align: right;\">\n",
       "      <th></th>\n",
       "      <th>Hours</th>\n",
       "      <th>Scores</th>\n",
       "    </tr>\n",
       "  </thead>\n",
       "  <tbody>\n",
       "    <tr>\n",
       "      <th>0</th>\n",
       "      <td>2.5</td>\n",
       "      <td>21</td>\n",
       "    </tr>\n",
       "    <tr>\n",
       "      <th>1</th>\n",
       "      <td>5.1</td>\n",
       "      <td>47</td>\n",
       "    </tr>\n",
       "    <tr>\n",
       "      <th>2</th>\n",
       "      <td>3.2</td>\n",
       "      <td>27</td>\n",
       "    </tr>\n",
       "    <tr>\n",
       "      <th>3</th>\n",
       "      <td>8.5</td>\n",
       "      <td>75</td>\n",
       "    </tr>\n",
       "    <tr>\n",
       "      <th>4</th>\n",
       "      <td>3.5</td>\n",
       "      <td>30</td>\n",
       "    </tr>\n",
       "  </tbody>\n",
       "</table>\n",
       "</div>"
      ],
      "text/plain": [
       "   Hours  Scores\n",
       "0    2.5      21\n",
       "1    5.1      47\n",
       "2    3.2      27\n",
       "3    8.5      75\n",
       "4    3.5      30"
      ]
     },
     "execution_count": 43,
     "metadata": {},
     "output_type": "execute_result"
    }
   ],
   "source": [
    "# Read the dataset:\n",
    "df = pd.read_csv('dataset.txt')\n",
    "df.head()"
   ]
  },
  {
   "cell_type": "code",
   "execution_count": 44,
   "id": "699f3aa2",
   "metadata": {},
   "outputs": [
    {
     "data": {
      "text/plain": [
       "25"
      ]
     },
     "execution_count": 44,
     "metadata": {},
     "output_type": "execute_result"
    }
   ],
   "source": [
    "# Lets check the size of our dataframe.\n",
    "len(df)"
   ]
  },
  {
   "cell_type": "code",
   "execution_count": 45,
   "id": "8fb9a9a9",
   "metadata": {},
   "outputs": [
    {
     "data": {
      "text/plain": [
       "array([2.5, 5.1, 3.2, 8.5, 3.5, 1.5, 9.2, 5.5, 8.3, 2.7, 7.7, 5.9, 4.5,\n",
       "       3.3, 1.1, 8.9, 2.5, 1.9, 6.1, 7.4, 2.7, 4.8, 3.8, 6.9, 7.8])"
      ]
     },
     "execution_count": 45,
     "metadata": {},
     "output_type": "execute_result"
    }
   ],
   "source": [
    "# perpare input data as numpy array.\n",
    "x= np.array(df['Hours'])\n",
    "x"
   ]
  },
  {
   "cell_type": "code",
   "execution_count": 46,
   "id": "58657300",
   "metadata": {},
   "outputs": [
    {
     "data": {
      "text/plain": [
       "array([21, 47, 27, 75, 30, 20, 88, 60, 81, 25, 85, 62, 41, 42, 17, 95, 30,\n",
       "       24, 67, 69, 30, 54, 35, 76, 86], dtype=int64)"
      ]
     },
     "execution_count": 46,
     "metadata": {},
     "output_type": "execute_result"
    }
   ],
   "source": [
    "# perpare the output data or target y.\n",
    "y =np.array(df['Scores'])\n",
    "y"
   ]
  },
  {
   "cell_type": "code",
   "execution_count": 47,
   "id": "8ca27381",
   "metadata": {},
   "outputs": [
    {
     "data": {
      "text/plain": [
       "((25,), (25,))"
      ]
     },
     "execution_count": 47,
     "metadata": {},
     "output_type": "execute_result"
    }
   ],
   "source": [
    "# check the shape of the input and target data.\n",
    "x.shape , y.shape"
   ]
  },
  {
   "cell_type": "markdown",
   "id": "e87628b2",
   "metadata": {},
   "source": [
    "## Ploting the data\n"
   ]
  },
  {
   "cell_type": "code",
   "execution_count": 64,
   "id": "a827ffe5",
   "metadata": {},
   "outputs": [
    {
     "data": {
      "image/png": "[encoded data removed]",
      "text/plain": [
       "<Figure size 432x288 with 1 Axes>"
      ]
     },
     "metadata": {
      "needs_background": "light"
     },
     "output_type": "display_data"
    }
   ],
   "source": [
    "# Plot the data points\n",
    "plt.scatter(x, y, c='r')\n",
    "# Set the title\n",
    "plt.title(\"Study hours vs Scores\")\n",
    "# Set the y-axis label\n",
    "plt.ylabel('Scores')\n",
    "# Set the x-axis label\n",
    "plt.xlabel('No. of Study hours')\n",
    "plt.show()"
   ]
  },
  {
   "cell_type": "markdown",
   "id": "2db65371",
   "metadata": {},
   "source": [
    "## Model function\n",
    "\n",
    "* As we can see in the graph above, it is evident that the relationship between the input variable `x` and the corresponding target variable `y` follows a linear regression pattern.\n",
    "* The model function for linear regression (which is a function that maps from `x` to `y`) is represented as: \n",
    "\n",
    "$$ f_{w,b}(x^{(i)}) = wx^{(i)} + b \\tag{1}$$\n",
    "* The formula above is how you can represent straight lines - different values of  w  and  b  give you different straight lines on the plot."
   ]
  },
  {
   "cell_type": "markdown",
   "id": "599b563f",
   "metadata": {},
   "source": [
    "* The idea from this model(function) is to find the appropriate values for 'w' and 'b', then when we have these values/ parameters 'a', 'b', and  number of suty hours 'x' for new student (not on dataset), we can get/predict the corresponding output (the score 'y') for that student."
   ]
  },
  {
   "cell_type": "markdown",
   "id": "19d1f732",
   "metadata": {},
   "source": [
    "* Let's initiate the calculation using arbitrary values for 'w' and 'b'( let's say w= 5  and  b= 5) and determine the value of  $f_{w,b}(x^{(i)})$ for our data points."
   ]
  },
  {
   "cell_type": "code",
   "execution_count": 49,
   "id": "b28dc639",
   "metadata": {},
   "outputs": [],
   "source": [
    "w = 5 \n",
    "b = 5"
   ]
  },
  {
   "cell_type": "markdown",
   "id": "27f34eb9",
   "metadata": {},
   "source": [
    "* Let's use these two arbitrary values for 'w' and 'b' to predict some of our data points in the dataset, just to see how good our values/parameter 'w' and 'b' are."
   ]
  },
  {
   "cell_type": "code",
   "execution_count": 50,
   "id": "0adb711e",
   "metadata": {},
   "outputs": [
    {
     "data": {
      "text/html": [
       "<div>\n",
       "<style scoped>\n",
       "    .dataframe tbody tr th:only-of-type {\n",
       "        vertical-align: middle;\n",
       "    }\n",
       "\n",
       "    .dataframe tbody tr th {\n",
       "        vertical-align: top;\n",
       "    }\n",
       "\n",
       "    .dataframe thead th {\n",
       "        text-align: right;\n",
       "    }\n",
       "</style>\n",
       "<table border=\"1\" class=\"dataframe\">\n",
       "  <thead>\n",
       "    <tr style=\"text-align: right;\">\n",
       "      <th></th>\n",
       "      <th>Hours</th>\n",
       "      <th>Scores</th>\n",
       "    </tr>\n",
       "  </thead>\n",
       "  <tbody>\n",
       "    <tr>\n",
       "      <th>0</th>\n",
       "      <td>2.5</td>\n",
       "      <td>21</td>\n",
       "    </tr>\n",
       "    <tr>\n",
       "      <th>1</th>\n",
       "      <td>5.1</td>\n",
       "      <td>47</td>\n",
       "    </tr>\n",
       "    <tr>\n",
       "      <th>2</th>\n",
       "      <td>3.2</td>\n",
       "      <td>27</td>\n",
       "    </tr>\n",
       "    <tr>\n",
       "      <th>3</th>\n",
       "      <td>8.5</td>\n",
       "      <td>75</td>\n",
       "    </tr>\n",
       "    <tr>\n",
       "      <th>4</th>\n",
       "      <td>3.5</td>\n",
       "      <td>30</td>\n",
       "    </tr>\n",
       "  </tbody>\n",
       "</table>\n",
       "</div>"
      ],
      "text/plain": [
       "   Hours  Scores\n",
       "0    2.5      21\n",
       "1    5.1      47\n",
       "2    3.2      27\n",
       "3    8.5      75\n",
       "4    3.5      30"
      ]
     },
     "execution_count": 50,
     "metadata": {},
     "output_type": "execute_result"
    }
   ],
   "source": [
    "# lets print some examples from the dataset\n",
    "df.head()"
   ]
  },
  {
   "cell_type": "markdown",
   "id": "3bd66a54",
   "metadata": {},
   "source": [
    "*  We can see that when the student studied for 2.5 hours, his/her score was 21, and when studies 5.1 , score was 47 and so on.\n",
    "* Now lets try to use our model (equation (1) above) and to predict manually some of the first 5 examples shown above."
   ]
  },
  {
   "cell_type": "code",
   "execution_count": 68,
   "id": "02972ec3",
   "metadata": {},
   "outputs": [
    {
     "data": {
      "text/plain": [
       "array([2.5, 5.1, 3.2, 8.5, 3.5, 1.5, 9.2, 5.5, 8.3, 2.7, 7.7, 5.9, 4.5,\n",
       "       3.3, 1.1, 8.9, 2.5, 1.9, 6.1, 7.4, 2.7, 4.8, 3.8, 6.9, 7.8])"
      ]
     },
     "execution_count": 68,
     "metadata": {},
     "output_type": "execute_result"
    }
   ],
   "source": [
    "# lets check our model for the first exmple, when x=2.5, y=21 and using the arbitrary w,b values.\n",
    "w = 5 \n",
    "b = 5\n",
    "x"
   ]
  },
  {
   "cell_type": "code",
   "execution_count": 29,
   "id": "78b1f2ff",
   "metadata": {},
   "outputs": [
    {
     "data": {
      "text/plain": [
       "17.5"
      ]
     },
     "execution_count": 29,
     "metadata": {},
     "output_type": "execute_result"
    }
   ],
   "source": [
    "model = w * x[0] + b\n",
    "model"
   ]
  },
  {
   "cell_type": "code",
   "execution_count": 53,
   "id": "9778e471",
   "metadata": {},
   "outputs": [
    {
     "data": {
      "text/plain": [
       "30.5"
      ]
     },
     "execution_count": 53,
     "metadata": {},
     "output_type": "execute_result"
    }
   ],
   "source": [
    "# and for the second example, when x= 5.1\n",
    "model = w * x[1] + b\n",
    "model"
   ]
  },
  {
   "cell_type": "markdown",
   "id": "05a5d061",
   "metadata": {},
   "source": [
    "* we can see that our model predict 17.5 score for the first example when student studied for 2.5 hours, but the real score was 21, and predicts 30.5 scores when studied 5.1. which means that we shoud change the values of our parameters 'w' and 'b' to make the model more accurate.\n",
    "* Fore sure, keep changing 'w' and 'b' manually is not practical solution, but for the seek of learning lets' continue that for now and later we will use an algorithm which will select the best values for our model parameters 'w' and 'b'."
   ]
  },
  {
   "cell_type": "code",
   "execution_count": 56,
   "id": "597da3c8",
   "metadata": {},
   "outputs": [
    {
     "data": {
      "text/plain": [
       "array([17.5, 30.5, 21. , 47.5, 22.5, 12.5, 51. , 32.5, 46.5, 18.5, 43.5,\n",
       "       34.5, 27.5, 21.5, 10.5, 49.5, 17.5, 14.5, 35.5, 42. , 18.5, 29. ,\n",
       "       24. , 39.5, 44. ])"
      ]
     },
     "execution_count": 56,
     "metadata": {},
     "output_type": "execute_result"
    }
   ],
   "source": [
    "# Use our model to predict all values at once\n",
    "model = np.zeros(len(x))\n",
    "for i in range(len(x)):\n",
    "    model[i] = w * x[i] + b\n",
    "model"
   ]
  },
  {
   "cell_type": "code",
   "execution_count": 57,
   "id": "de5d2b68",
   "metadata": {},
   "outputs": [
    {
     "data": {
      "text/plain": [
       "array([17.5, 30.5, 21. , 47.5, 22.5, 12.5, 51. , 32.5, 46.5, 18.5, 43.5,\n",
       "       34.5, 27.5, 21.5, 10.5, 49.5, 17.5, 14.5, 35.5, 42. , 18.5, 29. ,\n",
       "       24. , 39.5, 44. ])"
      ]
     },
     "execution_count": 57,
     "metadata": {},
     "output_type": "execute_result"
    }
   ],
   "source": [
    "# We can utilize numpy casting instead using for loop as the following:\n",
    "model = w * x + b\n",
    "model"
   ]
  },
  {
   "cell_type": "code",
   "execution_count": 63,
   "id": "004c3193",
   "metadata": {},
   "outputs": [
    {
     "data": {
      "image/png": "[encoded data removed]",
      "text/plain": [
       "<Figure size 432x288 with 1 Axes>"
      ]
     },
     "metadata": {
      "needs_background": "light"
     },
     "output_type": "display_data"
    }
   ],
   "source": [
    "# lets plot the real datapoints and the prediction data points and see how our model fits the data?\n",
    "\n",
    "# Plot the real data points\n",
    "plt.scatter(x, y, c='b',label='Actual Values')\n",
    "\n",
    "# Plot our model prediction\n",
    "plt.plot(x, model, c='r',label='Our Prediction')\n",
    "\n",
    "# Set the title\n",
    "plt.title(\"Study hours vs Scores\")\n",
    "# Set the y-axis label\n",
    "plt.ylabel('Scores')\n",
    "# Set the x-axis label\n",
    "plt.xlabel('No. of Study hours')\n",
    "plt.legend()\n",
    "plt.show()"
   ]
  },
  {
   "cell_type": "markdown",
   "id": "f6e33a71",
   "metadata": {},
   "source": [
    "* As we can see, setting  w= 5  and  b = 5  does not result in a line that fits our data (Under fit)."
   ]
  },
  {
   "cell_type": "markdown",
   "id": "d53cf405",
   "metadata": {},
   "source": [
    "* Now we will try experimenting with different values of  w  and  b ( manually) trying to make the line(predicted points) fits our real data.\n",
    "* in order to try that many times easily, we shoul write two functions: \n",
    "    * first function for caculating the predictions.\n",
    "    * Second function for ploting the data."
   ]
  },
  {
   "cell_type": "code",
   "execution_count": 69,
   "id": "e9c7ecea",
   "metadata": {},
   "outputs": [],
   "source": [
    "def model_predictions(x, w, b):\n",
    "    \"\"\"\n",
    "    Computes the prediction of a linear model\n",
    "    Args:\n",
    "      x (ndarray (m,)): Data, m examples \n",
    "      w,b (scalar)    : model parameters  \n",
    "    Returns\n",
    "      y (ndarray (m,)): target values\n",
    "    \"\"\"\n",
    "    m = len(df)\n",
    "    model = np.zeros(m)\n",
    "    for i in range(m):\n",
    "        model[i] = w * x[i] + b\n",
    "        \n",
    "    return model"
   ]
  },
  {
   "cell_type": "code",
   "execution_count": 72,
   "id": "63db8d5d",
   "metadata": {},
   "outputs": [],
   "source": [
    "def plot_data():\n",
    "    # Plot the real data points\n",
    "    plt.scatter(x, y, c='b',label='Actual Values')\n",
    "\n",
    "    # Plot our model prediction\n",
    "    plt.plot(x, model, c='r',label='Our Prediction')\n",
    "\n",
    "    # Set the title\n",
    "    plt.title(\"Study hours vs Scores\")\n",
    "    # Set the y-axis label\n",
    "    plt.ylabel('Scores')\n",
    "    # Set the x-axis label\n",
    "    plt.xlabel('No. of Study hours')\n",
    "    plt.legend()\n",
    "    plt.show()"
   ]
  },
  {
   "cell_type": "code",
   "execution_count": 86,
   "id": "cb781a84",
   "metadata": {},
   "outputs": [
    {
     "data": {
      "image/png": "[encoded data removed]",
      "text/plain": [
       "<Figure size 432x288 with 1 Axes>"
      ]
     },
     "metadata": {
      "needs_background": "light"
     },
     "output_type": "display_data"
    }
   ],
   "source": [
    "# Lets try different values for 'w' and 'b' , till we make the line/model fits the data.\n",
    "model= model_predictions(x, w=12, b=8)\n",
    "plot_data()"
   ]
  },
  {
   "cell_type": "code",
   "execution_count": 87,
   "id": "507da4f2",
   "metadata": {},
   "outputs": [
    {
     "data": {
      "image/png": "[encoded data removed]",
      "text/plain": [
       "<Figure size 432x288 with 1 Axes>"
      ]
     },
     "metadata": {
      "needs_background": "light"
     },
     "output_type": "display_data"
    }
   ],
   "source": [
    "model= model_predictions(x, w=10, b=0)\n",
    "plot_data()"
   ]
  },
  {
   "cell_type": "markdown",
   "id": "81f2de25",
   "metadata": {},
   "source": [
    "* We can see that the above model with w = 10 and b=0 is making our model to fit our data beter than other models we saw before.\n",
    "* Remark: There may be different values for w,b can fit the model. ( you can try them out ;) )."
   ]
  },
  {
   "cell_type": "code",
   "execution_count": null,
   "id": "cf4ca70d",
   "metadata": {},
   "outputs": [],
   "source": []
  }
 ],
 "metadata": {
  "kernelspec": {
   "display_name": "Python 3 (ipykernel)",
   "language": "python",
   "name": "python3"
  },
  "language_info": {
   "codemirror_mode": {
    "name": "ipython",
    "version": 3
   },
   "file_extension": ".py",
   "mimetype": "text/x-python",
   "name": "python",
   "nbconvert_exporter": "python",
   "pygments_lexer": "ipython3",
   "version": "3.9.7"
  }
 },
 "nbformat": 4,
 "nbformat_minor": 5
}
